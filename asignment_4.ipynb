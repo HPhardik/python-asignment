{
 "cells": [
  {
   "cell_type": "markdown",
   "id": "faeee442",
   "metadata": {},
   "source": [
    "# example 1.1"
   ]
  },
  {
   "cell_type": "code",
   "execution_count": 1,
   "id": "cb66724e",
   "metadata": {},
   "outputs": [
    {
     "name": "stdout",
     "output_type": "stream",
     "text": [
      "a=5\n",
      "b=5\n",
      "c=5\n",
      "area : 10.825317547305483\n"
     ]
    }
   ],
   "source": [
    "class poly:\n",
    "    def __init__(self,a,b,c):\n",
    "        self.a = float(a)\n",
    "        self.b = float(b)\n",
    "        self.c = float(c)\n",
    "a= int(input(\"a=\"))\n",
    "b= int(input(\"b=\"))\n",
    "c= int(input(\"c=\"))\n",
    "\n",
    "class triangle(poly):\n",
    "    def __init__(self,a,b,c):\n",
    "        super().__init__(a,b,c)\n",
    "\n",
    "    def get_area(self):\n",
    "        s = (a + b + c) / 2\n",
    "        return (s*(s-a)*(s-b)*(s-c)) ** 0.5        \n",
    "\n",
    "t = triangle(a,b,c)\n",
    "print(\"area : {}\".format(t.get_area()))"
   ]
  },
  {
   "cell_type": "markdown",
   "id": "2bf55464",
   "metadata": {},
   "source": [
    "# example 1.2"
   ]
  },
  {
   "cell_type": "code",
   "execution_count": 23,
   "id": "c8959210",
   "metadata": {},
   "outputs": [
    {
     "name": "stdout",
     "output_type": "stream",
     "text": [
      "['hardik', 'like', 'machinelearning']\n"
     ]
    }
   ],
   "source": [
    "def filter_words(n, str):\n",
    "    word_len = []\n",
    "    txt = str.split(\" \")\n",
    "    for x in txt:\n",
    "        if len(x) > n:\n",
    "            word_len.append(x)\n",
    "    return word_len\n",
    "print(filter_words(3, \"i am hardik and i like machinelearning\"))"
   ]
  },
  {
   "cell_type": "markdown",
   "id": "a67dde5d",
   "metadata": {},
   "source": [
    "# example 2.1"
   ]
  },
  {
   "cell_type": "code",
   "execution_count": 30,
   "id": "811d7c6b",
   "metadata": {},
   "outputs": [
    {
     "name": "stdout",
     "output_type": "stream",
     "text": [
      "Please enter Words : hardik,parmar\n",
      "Length of Words : [6, 6]\n"
     ]
    }
   ],
   "source": [
    "def map_Words_to_Length(List):\n",
    "    return list(map(len, List))\n",
    "\n",
    "word_List=list(input(\"Please enter Words : \").split(\",\"))\n",
    "\n",
    "List=[x.strip() for x in word_List]\n",
    "Words_lengths=map_Words_to_Length(List)\n",
    "\n",
    "print(\"Length of Words :\",Words_lengths )"
   ]
  },
  {
   "cell_type": "markdown",
   "id": "85742c6e",
   "metadata": {},
   "source": [
    "# example 2.2"
   ]
  },
  {
   "cell_type": "code",
   "execution_count": 1,
   "id": "ac289c3a",
   "metadata": {},
   "outputs": [],
   "source": [
    "def vowel(char):\n",
    "    if char.lower() in 'aeiou':\n",
    "        return True\n",
    "    if char.upper() in 'AEIOU':\n",
    "        return TRUE\n",
    "    else:\n",
    "        return False"
   ]
  },
  {
   "cell_type": "code",
   "execution_count": 4,
   "id": "7ed12c6f",
   "metadata": {},
   "outputs": [
    {
     "data": {
      "text/plain": [
       "True"
      ]
     },
     "execution_count": 4,
     "metadata": {},
     "output_type": "execute_result"
    }
   ],
   "source": [
    "vowel('A')"
   ]
  },
  {
   "cell_type": "code",
   "execution_count": 5,
   "id": "9758c3be",
   "metadata": {},
   "outputs": [
    {
     "data": {
      "text/plain": [
       "False"
      ]
     },
     "execution_count": 5,
     "metadata": {},
     "output_type": "execute_result"
    }
   ],
   "source": [
    "vowel('B')"
   ]
  },
  {
   "cell_type": "code",
   "execution_count": null,
   "id": "56993692",
   "metadata": {},
   "outputs": [],
   "source": []
  },
  {
   "cell_type": "code",
   "execution_count": null,
   "id": "f48c78b4",
   "metadata": {},
   "outputs": [],
   "source": []
  }
 ],
 "metadata": {
  "kernelspec": {
   "display_name": "Python 3",
   "language": "python",
   "name": "python3"
  },
  "language_info": {
   "codemirror_mode": {
    "name": "ipython",
    "version": 3
   },
   "file_extension": ".py",
   "mimetype": "text/x-python",
   "name": "python",
   "nbconvert_exporter": "python",
   "pygments_lexer": "ipython3",
   "version": "3.8.8"
  }
 },
 "nbformat": 4,
 "nbformat_minor": 5
}
